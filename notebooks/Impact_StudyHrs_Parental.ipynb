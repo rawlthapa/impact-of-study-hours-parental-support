{
 "cells": [
  {
   "cell_type": "code",
   "execution_count": 2,
   "metadata": {},
   "outputs": [
    {
     "data": {
      "text/html": [
       "<div>\n",
       "<style scoped>\n",
       "    .dataframe tbody tr th:only-of-type {\n",
       "        vertical-align: middle;\n",
       "    }\n",
       "\n",
       "    .dataframe tbody tr th {\n",
       "        vertical-align: top;\n",
       "    }\n",
       "\n",
       "    .dataframe thead th {\n",
       "        text-align: right;\n",
       "    }\n",
       "</style>\n",
       "<table border=\"1\" class=\"dataframe\">\n",
       "  <thead>\n",
       "    <tr style=\"text-align: right;\">\n",
       "      <th></th>\n",
       "      <th>StudentID</th>\n",
       "      <th>Name</th>\n",
       "      <th>Gender</th>\n",
       "      <th>AttendanceRate</th>\n",
       "      <th>StudyHoursPerWeek</th>\n",
       "      <th>PreviousGrade</th>\n",
       "      <th>ExtracurricularActivities</th>\n",
       "      <th>ParentalSupport</th>\n",
       "      <th>FinalGrade</th>\n",
       "    </tr>\n",
       "  </thead>\n",
       "  <tbody>\n",
       "    <tr>\n",
       "      <th>0</th>\n",
       "      <td>1</td>\n",
       "      <td>John</td>\n",
       "      <td>Male</td>\n",
       "      <td>85</td>\n",
       "      <td>15</td>\n",
       "      <td>78</td>\n",
       "      <td>1</td>\n",
       "      <td>High</td>\n",
       "      <td>80</td>\n",
       "    </tr>\n",
       "    <tr>\n",
       "      <th>1</th>\n",
       "      <td>2</td>\n",
       "      <td>Sarah</td>\n",
       "      <td>Female</td>\n",
       "      <td>90</td>\n",
       "      <td>20</td>\n",
       "      <td>85</td>\n",
       "      <td>2</td>\n",
       "      <td>Medium</td>\n",
       "      <td>87</td>\n",
       "    </tr>\n",
       "    <tr>\n",
       "      <th>2</th>\n",
       "      <td>3</td>\n",
       "      <td>Alex</td>\n",
       "      <td>Male</td>\n",
       "      <td>78</td>\n",
       "      <td>10</td>\n",
       "      <td>65</td>\n",
       "      <td>0</td>\n",
       "      <td>Low</td>\n",
       "      <td>68</td>\n",
       "    </tr>\n",
       "    <tr>\n",
       "      <th>3</th>\n",
       "      <td>4</td>\n",
       "      <td>Michael</td>\n",
       "      <td>Male</td>\n",
       "      <td>92</td>\n",
       "      <td>25</td>\n",
       "      <td>90</td>\n",
       "      <td>3</td>\n",
       "      <td>High</td>\n",
       "      <td>92</td>\n",
       "    </tr>\n",
       "    <tr>\n",
       "      <th>4</th>\n",
       "      <td>5</td>\n",
       "      <td>Emma</td>\n",
       "      <td>Female</td>\n",
       "      <td>88</td>\n",
       "      <td>18</td>\n",
       "      <td>82</td>\n",
       "      <td>2</td>\n",
       "      <td>Medium</td>\n",
       "      <td>85</td>\n",
       "    </tr>\n",
       "  </tbody>\n",
       "</table>\n",
       "</div>"
      ],
      "text/plain": [
       "   StudentID     Name  Gender  AttendanceRate  StudyHoursPerWeek  \\\n",
       "0          1     John    Male              85                 15   \n",
       "1          2    Sarah  Female              90                 20   \n",
       "2          3     Alex    Male              78                 10   \n",
       "3          4  Michael    Male              92                 25   \n",
       "4          5     Emma  Female              88                 18   \n",
       "\n",
       "   PreviousGrade  ExtracurricularActivities ParentalSupport  FinalGrade  \n",
       "0             78                          1            High          80  \n",
       "1             85                          2          Medium          87  \n",
       "2             65                          0             Low          68  \n",
       "3             90                          3            High          92  \n",
       "4             82                          2          Medium          85  "
      ]
     },
     "execution_count": 2,
     "metadata": {},
     "output_type": "execute_result"
    }
   ],
   "source": [
    "import pandas as pd\n",
    "\n",
    "# Path to dataset\n",
    "file_path='./data/student_performance.csv'\n",
    "\n",
    "# load the CSV file into dataframe\n",
    "df=pd.read_csv(file_path)\n",
    "\n",
    "# Show first few rows\n",
    "df.head()"
   ]
  },
  {
   "cell_type": "code",
   "execution_count": 3,
   "metadata": {},
   "outputs": [
    {
     "name": "stdout",
     "output_type": "stream",
     "text": [
      "These are the independent variables\n",
      "   StudyHoursPerWeek ParentalSupport  PreviousGrade  ExtracurricularActivities\n",
      "0                 15            High             78                          1\n",
      "1                 20          Medium             85                          2\n",
      "2                 10             Low             65                          0\n",
      "3                 25            High             90                          3\n",
      "4                 18          Medium             82                          2\n",
      "5                 30            High             88                          1\n",
      "6                  8             Low             60                          0\n",
      "7                 17          Medium             77                          1\n",
      "8                 12             Low             70                          2\n",
      "9                 22            High             86                          3\n",
      "\n",
      " Targeted variable\n",
      "0    80\n",
      "1    87\n",
      "2    68\n",
      "3    92\n",
      "4    85\n",
      "5    90\n",
      "6    62\n",
      "7    78\n",
      "8    72\n",
      "9    88\n",
      "Name: FinalGrade, dtype: int64\n"
     ]
    }
   ],
   "source": [
    "# Independent variables\n",
    "X=df[['StudyHoursPerWeek', 'ParentalSupport','PreviousGrade','ExtracurricularActivities']]\n",
    "y=df['FinalGrade']\n",
    "\n",
    "# Independatan var\n",
    "print('These are the independent variables')\n",
    "print(X)\n",
    "\n",
    "# targeted variable\n",
    "print('\\n Targeted variable')\n",
    "print(y)"
   ]
  },
  {
   "cell_type": "code",
   "execution_count": 6,
   "metadata": {},
   "outputs": [],
   "source": [
    "# Label Encoding\n",
    "from sklearn.preprocessing import LabelEncoder\n",
    "\n",
    "# Initialize the label encoder\n",
    "label_encoder= LabelEncoder()\n",
    "\n",
    "# Encode the 'ParetalSupport' column\n",
    "X_train['ParentalSupport']=label_encoder.fit_transform(X_train['ParentalSupport'])\n",
    "X_test['ParentalSupport']=label_encoder.transform(X_test['ParentalSupport'])"
   ]
  },
  {
   "cell_type": "code",
   "execution_count": 5,
   "metadata": {},
   "outputs": [
    {
     "name": "stdout",
     "output_type": "stream",
     "text": [
      "Training set shape: (8, 4)\n",
      "Testing set shape: (2, 4)\n"
     ]
    }
   ],
   "source": [
    "from sklearn.model_selection import train_test_split\n",
    "\n",
    "# Split the data into train and test sets(80% train and 20% test)\n",
    "X_train, X_test, y_train, y_test= train_test_split(X, y, test_size=0.2, random_state=42)\n",
    "print(f\"Training set shape: {X_train.shape}\")\n",
    "print(f\"Testing set shape: {X_test.shape}\")"
   ]
  },
  {
   "cell_type": "code",
   "execution_count": 7,
   "metadata": {},
   "outputs": [
    {
     "name": "stdout",
     "output_type": "stream",
     "text": [
      "Model Coefficients:\n",
      "[-0.03295048 -0.03259529  1.00616856  0.04043626]\n"
     ]
    }
   ],
   "source": [
    "# Model training part\n",
    "from sklearn.linear_model import LinearRegression\n",
    "\n",
    "# Initialize the Linear Regression model\n",
    "model=LinearRegression()\n",
    "\n",
    "# train the model\n",
    "model.fit(X_train, y_train)\n",
    "\n",
    "# Print the model's coefficients (weights)\n",
    "print(\"Model Coefficients:\")\n",
    "print(model.coef_)"
   ]
  },
  {
   "cell_type": "code",
   "execution_count": 8,
   "metadata": {},
   "outputs": [
    {
     "name": "stdout",
     "output_type": "stream",
     "text": [
      "R-Squared: 0.9966233172495262\n",
      "Mean Squared Error: 0.3393038557546339\n"
     ]
    }
   ],
   "source": [
    "from sklearn.metrics import mean_squared_error, r2_score\n",
    "\n",
    "# Predict on training data\n",
    "y_train_pred= model.predict(X_train)\n",
    "\n",
    "# Calculate R-Squared and MSE\n",
    "r2=r2_score(y_train, y_train_pred)\n",
    "mse=mean_squared_error(y_train, y_train_pred)\n",
    "\n",
    "print(f\"R-Squared: {r2}\")\n",
    "print(f\"Mean Squared Error: {mse}\")"
   ]
  },
  {
   "cell_type": "code",
   "execution_count": 9,
   "metadata": {},
   "outputs": [
    {
     "name": "stdout",
     "output_type": "stream",
     "text": [
      "Predictions on Test Data:\n",
      "[72.29305493 87.08938414]\n"
     ]
    }
   ],
   "source": [
    "# Predict on test data\n",
    "y_test_pred = model.predict(X_test)\n",
    "\n",
    "# Print or visualize the predictions\n",
    "print(\"Predictions on Test Data:\")\n",
    "print(y_test_pred)\n"
   ]
  },
  {
   "cell_type": "code",
   "execution_count": 10,
   "metadata": {},
   "outputs": [
    {
     "name": "stdout",
     "output_type": "stream",
     "text": [
      "Predicted FinalGrade: [3.37220542]\n"
     ]
    }
   ],
   "source": [
    "# # Print the mapping of the label encoder\n",
    "# print(\"Label Encoder Classes:\", label_encoder.classes_)\n",
    "# print(\"High-0,Low-1, Medium-2 \")\n",
    "\n",
    "\n",
    "# Input your own data with encoded values\n",
    "# new_data = [[20, 1, 85, 2]]  # [StudyHoursPerWeek, ParentalSupport (1 for Medium), PreviousGrade, ExtracurricularActivities]\n",
    "study_hours=float(input(\"Enter study hours per week: \"))\n",
    "parental_support=int(input(\"Enter parental support(high-0, low-1, medium-2)\"))\n",
    "previous_grade=float(input(\"Enter previous grade: \"))\n",
    "ECA=int(input(\"Enter extracurricular activity(0,1,2 etc)\"))\n",
    "\n",
    "# Prepare the input data as a DataFrame\n",
    "new_data = pd.DataFrame([[study_hours, parental_support, previous_grade, ECA]],\n",
    "                        columns=['StudyHoursPerWeek', 'ParentalSupport', 'PreviousGrade', 'ExtracurricularActivities'])\n",
    "\n",
    "\n",
    "\n",
    "# Predict using the trained model\n",
    "prediction = model.predict(new_data)\n",
    "\n",
    "print(\"Predicted FinalGrade:\", prediction)\n"
   ]
  },
  {
   "cell_type": "code",
   "execution_count": 14,
   "metadata": {},
   "outputs": [
    {
     "name": "stdout",
     "output_type": "stream",
     "text": [
      "   Actual Final Grade  Predicted Final Grade\n",
      "8                  72              72.293055\n",
      "1                  87              87.089384\n"
     ]
    },
    {
     "data": {
      "image/png": "[encoded data removed]",
      "text/plain": [
       "<Figure size 800x600 with 1 Axes>"
      ]
     },
     "metadata": {},
     "output_type": "display_data"
    }
   ],
   "source": [
    "import pandas as pd\n",
    "import matplotlib.pyplot as plt\n",
    "\n",
    "# Predict on test data\n",
    "y_test_pred = model.predict(X_test)\n",
    "\n",
    "# Create a DataFrame to compare Actual vs Predicted values\n",
    "comparison_df = pd.DataFrame({\n",
    "    'Actual Final Grade': y_test,\n",
    "    'Predicted Final Grade': y_test_pred\n",
    "})\n",
    "\n",
    "# Display the comparison\n",
    "print(comparison_df)\n",
    "\n",
    "# Optionally, plot the comparison\n",
    "plt.figure(figsize=(8, 6))\n",
    "plt.plot(y_test.values, label='Actual Final Grades', marker='o')\n",
    "plt.plot(y_test_pred, label='Predicted Final Grades', marker='x')\n",
    "plt.xlabel('Sample Index')\n",
    "plt.ylabel('Final Grade')\n",
    "plt.title('Actual vs Predicted Final Grades')\n",
    "plt.legend()\n",
    "plt.show()\n",
    "\n"
   ]
  },
  {
   "cell_type": "code",
   "execution_count": 13,
   "metadata": {},
   "outputs": [
    {
     "data": {
      "text/plain": [
       "['saved_models/label_encoder.pkl']"
      ]
     },
     "execution_count": 13,
     "metadata": {},
     "output_type": "execute_result"
    }
   ],
   "source": [
    "# Saving the model \n",
    "import joblib\n",
    "\n",
    "# Save the trained model\n",
    "joblib.dump(model, 'saved_models/final_grade_predictor.pkl')\n",
    "\n",
    "# Save the label encoder\n",
    "joblib.dump(label_encoder, 'saved_models/label_encoder.pkl')\n"
   ]
  },
  {
   "cell_type": "markdown",
   "metadata": {},
   "source": [
    "<h4>Testing the saved models</h4>"
   ]
  },
  {
   "cell_type": "code",
   "execution_count": null,
   "metadata": {},
   "outputs": [
    {
     "name": "stdout",
     "output_type": "stream",
     "text": [
      "Predicted Final Grade: 80.24\n",
      "Good\n"
     ]
    }
   ],
   "source": [
    "import pandas as pd\n",
    "import joblib\n",
    "import numpy as np\n",
    "\n",
    "# Load the saved model and label encoder\n",
    "loaded_model = joblib.load('saved_models/final_grade_predictor.pkl')\n",
    "loaded_label_encoder = joblib.load('saved_models/label_encoder.pkl')\n",
    "\n",
    "# Sample input data for prediction\n",
    "StudyHoursPerWeek = 15\n",
    "ParentalSupport = 'High'  \n",
    "PreviousGrade = 78\n",
    "ExtracurricularActivities = 1\n",
    "\n",
    "try:\n",
    "    # Encode the 'ParentalSupport' value using the saved label encoder\n",
    "    ParentalSupport_encoded = loaded_label_encoder.transform([ParentalSupport])[0]\n",
    "\n",
    "    # Prepare the input data as a DataFrame (matching the training data columns)\n",
    "    input_data = pd.DataFrame([[StudyHoursPerWeek, ParentalSupport_encoded, PreviousGrade, ExtracurricularActivities]],\n",
    "                          columns=['StudyHoursPerWeek', 'ParentalSupport', 'PreviousGrade', 'ExtracurricularActivities'])\n",
    "\n",
    "    # Make the prediction\n",
    "    prediction = loaded_model.predict(input_data)\n",
    "\n",
    "    # Output the predicted result\n",
    "    print(f\"Predicted Final Grade: {prediction[0]:.2f}\")\n",
    "    if prediction >= 90:\n",
    "        print(\"Excellent Student\")\n",
    "    elif 75 <= prediction < 90:\n",
    "        print(\"Good Student\")\n",
    "    elif 50 <= prediction < 75:\n",
    "        print(\"Average Student\")\n",
    "    else:\n",
    "        print(\"Needs Improvement\")\n",
    "except Exception as e:\n",
    "    print(f\"An error occured: {e}\")\n"
   ]
  }
 ],
 "metadata": {
  "kernelspec": {
   "display_name": "Python 3 (ipykernel)",
   "language": "python",
   "name": "python3"
  }
 },
 "nbformat": 4,
 "nbformat_minor": 2
}
